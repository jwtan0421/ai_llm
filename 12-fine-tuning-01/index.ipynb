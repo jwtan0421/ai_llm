{
  "nbformat": 4,
  "nbformat_minor": 0,
  "metadata": {
    "colab": {
      "provenance": [],
      "machine_shape": "hm",
      "gpuType": "L4",
      "authorship_tag": "ABX9TyOGjn53SSbc9yFS44o10Du8",
      "include_colab_link": true
    },
    "kernelspec": {
      "name": "python3",
      "display_name": "Python 3"
    },
    "language_info": {
      "name": "python"
    },
    "accelerator": "GPU"
  },
  "cells": [
    {
      "cell_type": "markdown",
      "metadata": {
        "id": "view-in-github",
        "colab_type": "text"
      },
      "source": [
        "<a href=\"https://colab.research.google.com/github/jwtan0421/ai_llm/blob/main/12-fine-tuning-01/index.ipynb\" target=\"_parent\"><img src=\"https://colab.research.google.com/assets/colab-badge.svg\" alt=\"Open In Colab\"/></a>"
      ]
    },
    {
      "cell_type": "markdown",
      "source": [
        "### rotten_tomatoes + gpt2"
      ],
      "metadata": {
        "id": "pt_qNUoqKgQc"
      }
    },
    {
      "cell_type": "code",
      "source": [
        "# if package errors, try below\n",
        "# !pip cache purge\n",
        "# !pip install accelerate -U\n",
        "# !pip install transformers[torch]\n",
        "!pip install datasets"
      ],
      "metadata": {
        "id": "ZUIjkjcGw0ra",
        "collapsed": true
      },
      "execution_count": null,
      "outputs": []
    },
    {
      "cell_type": "code",
      "execution_count": 34,
      "metadata": {
        "id": "bSwMFyb7l2Mz"
      },
      "outputs": [],
      "source": [
        "import datasets\n",
        "from datasets import load_dataset\n",
        "from transformers import AutoTokenizer, AutoModel\n",
        "from transformers import AutoModelForCausalLM\n",
        "from transformers import TrainingArguments, Seq2SeqTrainingArguments\n",
        "from transformers import Trainer, Seq2SeqTrainer\n",
        "import transformers\n",
        "from transformers import DataCollatorWithPadding\n",
        "from transformers import TextGenerationPipeline\n",
        "import torch\n",
        "import numpy as np\n",
        "import os, re\n",
        "from tqdm import tqdm\n",
        "import torch.nn as nn"
      ]
    },
    {
      "cell_type": "code",
      "source": [
        "MAX_LEN=32           # 最大长度\n",
        "SEED=42             # 随机种子\n",
        "LR=2e-5             # 学习率\n",
        "BATCH_SIZE=8          # BATCH_SIZE\n",
        "WARMUP_RATIO=0.1        # warmup比例\n",
        "INTERVAL=100          # 每多少步打一次 log / 做一次 eval"
      ],
      "metadata": {
        "id": "dM5Q3eQkmyeG"
      },
      "execution_count": 35,
      "outputs": []
    },
    {
      "cell_type": "code",
      "source": [
        "MODEL_NAME = \"gpt2\"                     # 模型名称\n",
        "# MODEL_NAME = \"gpt2-large\""
      ],
      "metadata": {
        "id": "78ADrujqm3rY"
      },
      "execution_count": 36,
      "outputs": []
    },
    {
      "cell_type": "code",
      "source": [
        "DATASET_NAME = \"rotten_tomatoes\"        # 数据集名称\n",
        "DATA_BODY_KEY = \"text\"\n",
        "DATA_LABEL_KEY = \"label\""
      ],
      "metadata": {
        "id": "_cklST8xm8cb"
      },
      "execution_count": 37,
      "outputs": []
    },
    {
      "cell_type": "code",
      "source": [
        "# 加载数据集\n",
        "raw_datasets = load_dataset(DATASET_NAME)"
      ],
      "metadata": {
        "collapsed": true,
        "id": "AySnwJp7nAX7"
      },
      "execution_count": 38,
      "outputs": []
    },
    {
      "cell_type": "code",
      "source": [
        "# 训练集\n",
        "raw_train_dataset = raw_datasets[\"train\"]"
      ],
      "metadata": {
        "id": "zivNDTmMnIxM"
      },
      "execution_count": 39,
      "outputs": []
    },
    {
      "cell_type": "code",
      "source": [
        "# 验证集\n",
        "raw_valid_dataset = raw_datasets[\"validation\"]"
      ],
      "metadata": {
        "id": "AejIx_8nnLaw"
      },
      "execution_count": 40,
      "outputs": []
    },
    {
      "cell_type": "code",
      "source": [
        "columns = raw_train_dataset.column_names"
      ],
      "metadata": {
        "id": "QmG9PzyBnNvR"
      },
      "execution_count": 41,
      "outputs": []
    },
    {
      "cell_type": "code",
      "source": [
        "import json\n",
        "\n",
        "\n",
        "def print_json(data):\n",
        "    \"\"\"\n",
        "    打印参数。如果参数是有结构的（如字典或列表），则以格式化的 JSON 形式打印；\n",
        "    否则，直接打印该值。\n",
        "    \"\"\"\n",
        "    if hasattr(data, 'model_dump_json'):\n",
        "        data = json.loads(data.model_dump_json())\n",
        "\n",
        "    if (isinstance(data, (list))):\n",
        "        for item in data:\n",
        "            print_json(item)\n",
        "    elif (isinstance(data, (dict))):\n",
        "        print(json.dumps(\n",
        "            data,\n",
        "            indent=4,\n",
        "            ensure_ascii=False\n",
        "        ))\n",
        "    else:\n",
        "        print(data)"
      ],
      "metadata": {
        "id": "yYZwjTHik8k8"
      },
      "execution_count": 42,
      "outputs": []
    },
    {
      "cell_type": "code",
      "source": [
        "print_json(raw_train_dataset[:2])"
      ],
      "metadata": {
        "colab": {
          "base_uri": "https://localhost:8080/"
        },
        "id": "5DTnGyzBwLwg",
        "outputId": "7b38b00a-ab39-49ef-9cab-58dad76053cb",
        "collapsed": true
      },
      "execution_count": 11,
      "outputs": [
        {
          "output_type": "stream",
          "name": "stdout",
          "text": [
            "{\n",
            "    \"text\": [\n",
            "        \"the rock is destined to be the 21st century's new \\\" conan \\\" and that he's going to make a splash even greater than arnold schwarzenegger , jean-claud van damme or steven segal .\",\n",
            "        \"the gorgeously elaborate continuation of \\\" the lord of the rings \\\" trilogy is so huge that a column of words cannot adequately describe co-writer/director peter jackson's expanded vision of j . r . r . tolkien's middle-earth .\"\n",
            "    ],\n",
            "    \"label\": [\n",
            "        1,\n",
            "        1\n",
            "    ]\n",
            "}\n"
          ]
        }
      ]
    },
    {
      "cell_type": "code",
      "source": [
        "# 设置随机种子\n",
        "transformers.set_seed(SEED)"
      ],
      "metadata": {
        "id": "cRBzRL8OncAH"
      },
      "execution_count": 43,
      "outputs": []
    },
    {
      "cell_type": "code",
      "source": [
        "# 定义tokenizer\n",
        "tokenizer = AutoTokenizer.from_pretrained(MODEL_NAME,trust_remote_code=True)\n",
        "tokenizer.add_special_tokens({'pad_token': '[PAD]'})\n",
        "tokenizer.pad_token_id = 0"
      ],
      "metadata": {
        "collapsed": true,
        "id": "pqvhUIxPnhco"
      },
      "execution_count": 44,
      "outputs": []
    },
    {
      "cell_type": "code",
      "source": [
        "named_labels = ['neg','pos']"
      ],
      "metadata": {
        "id": "RI0Cfy81nooY"
      },
      "execution_count": 45,
      "outputs": []
    },
    {
      "cell_type": "code",
      "source": [
        "# 标签转 token_id\n",
        "label_ids = [\n",
        "    tokenizer(named_labels[i],add_special_tokens=False)[\"input_ids\"][0]\n",
        "    for i in range(len(named_labels))\n",
        "]"
      ],
      "metadata": {
        "id": "PtOXtkS0nzdP"
      },
      "execution_count": 46,
      "outputs": []
    },
    {
      "cell_type": "code",
      "source": [
        "label_ids"
      ],
      "metadata": {
        "colab": {
          "base_uri": "https://localhost:8080/"
        },
        "id": "OFI1FJYSm7Ca",
        "outputId": "ab7aaf60-e7e7-4940-b8bb-249487200ce6"
      },
      "execution_count": 47,
      "outputs": [
        {
          "output_type": "execute_result",
          "data": {
            "text/plain": [
              "[12480, 1930]"
            ]
          },
          "metadata": {},
          "execution_count": 47
        }
      ]
    },
    {
      "cell_type": "code",
      "source": [
        "\n",
        "# 定义数据处理函数，把原始数据转成input_ids, attention_mask, labels\n",
        "def process_fn(examples):\n",
        "    model_inputs = {\n",
        "            \"input_ids\": [],\n",
        "            \"attention_mask\": [],\n",
        "            \"labels\": [],\n",
        "        }\n",
        "    for i in range(len(examples[DATA_BODY_KEY])):\n",
        "        inputs = tokenizer(examples[DATA_BODY_KEY][i],add_special_tokens=False)\n",
        "        label = label_ids[examples[DATA_LABEL_KEY][i]]\n",
        "        input_ids = inputs[\"input_ids\"] + [tokenizer.eos_token_id, label]\n",
        "\n",
        "        raw_len = len(input_ids)\n",
        "        input_len = len(inputs[\"input_ids\"]) + 1\n",
        "\n",
        "        if raw_len >= MAX_LEN:\n",
        "            input_ids = input_ids[-MAX_LEN:]\n",
        "            attention_mask = [1] * MAX_LEN\n",
        "            labels = [-100]*(MAX_LEN - 1) + [label]\n",
        "        else:\n",
        "            input_ids = input_ids + [tokenizer.pad_token_id] * (MAX_LEN - raw_len)\n",
        "            attention_mask = [1] * raw_len + [0] * (MAX_LEN - raw_len)\n",
        "            labels = [-100]*input_len + [label] + [-100] * (MAX_LEN - raw_len)\n",
        "        model_inputs[\"input_ids\"].append(input_ids)\n",
        "        model_inputs[\"attention_mask\"].append(attention_mask)\n",
        "        model_inputs[\"labels\"].append(labels)\n",
        "    return model_inputs"
      ],
      "metadata": {
        "id": "Of3LV6IHoAFF"
      },
      "execution_count": 48,
      "outputs": []
    },
    {
      "cell_type": "code",
      "source": [
        "# 处理训练数据集\n",
        "tokenized_train_dataset = raw_train_dataset.map(\n",
        "    process_fn,\n",
        "    batched=True,\n",
        "    remove_columns=columns,\n",
        "    desc=\"Running tokenizer on train dataset\",\n",
        ")"
      ],
      "metadata": {
        "id": "EU9it0zXoCdS"
      },
      "execution_count": 49,
      "outputs": []
    },
    {
      "cell_type": "code",
      "source": [
        "# 处理验证数据集\n",
        "tokenized_valid_dataset = raw_valid_dataset.map(\n",
        "    process_fn,\n",
        "    batched=True,\n",
        "    remove_columns=columns,\n",
        "    desc=\"Running tokenizer on validation dataset\",\n",
        ")"
      ],
      "metadata": {
        "id": "OkuJF9uroFTN"
      },
      "execution_count": 50,
      "outputs": []
    },
    {
      "cell_type": "code",
      "source": [
        "# 定义数据校准器（自动生成batch）\n",
        "collator = DataCollatorWithPadding(\n",
        "    tokenizer=tokenizer, return_tensors=\"pt\",\n",
        ")"
      ],
      "metadata": {
        "id": "rknox7mLoH70"
      },
      "execution_count": 51,
      "outputs": []
    },
    {
      "cell_type": "code",
      "source": [
        "# 定义模型\n",
        "model = AutoModelForCausalLM.from_pretrained(MODEL_NAME,trust_remote_code=True)\n",
        "# 节省显存\n",
        "model.gradient_checkpointing_enable()"
      ],
      "metadata": {
        "id": "K_Xda8qBoNcA"
      },
      "execution_count": 52,
      "outputs": []
    },
    {
      "cell_type": "code",
      "source": [
        "# 定义训练参数\n",
        "training_args = TrainingArguments(\n",
        "    output_dir=\"./output\",              # checkpoint保存路径\n",
        "    evaluation_strategy=\"steps\",        # 按步数计算eval频率\n",
        "    overwrite_output_dir=True,\n",
        "    num_train_epochs=1,                 # 训练epoch数\n",
        "    per_device_train_batch_size=BATCH_SIZE,     # 每张卡的batch大小\n",
        "    gradient_accumulation_steps=1,              # 累加几个step做一次参数更新\n",
        "    per_device_eval_batch_size=BATCH_SIZE,      # evaluation batch size\n",
        "    eval_steps=INTERVAL,                # 每N步eval一次\n",
        "    logging_steps=INTERVAL,             # 每N步log一次\n",
        "    save_steps=INTERVAL,                # 每N步保存一个checkpoint\n",
        "    learning_rate=LR,                   # 学习率\n",
        "    warmup_ratio=WARMUP_RATIO,          # warmup比例\n",
        ")"
      ],
      "metadata": {
        "colab": {
          "base_uri": "https://localhost:8080/"
        },
        "id": "FAcp2QSBoUam",
        "outputId": "e2393280-6a67-4c03-965d-311198d6ec8e"
      },
      "execution_count": 53,
      "outputs": [
        {
          "output_type": "stream",
          "name": "stderr",
          "text": [
            "/usr/local/lib/python3.10/dist-packages/transformers/training_args.py:1525: FutureWarning: `evaluation_strategy` is deprecated and will be removed in version 4.46 of 🤗 Transformers. Use `eval_strategy` instead\n",
            "  warnings.warn(\n"
          ]
        }
      ]
    },
    {
      "cell_type": "code",
      "source": [
        "def compute_metric(eval_predictions):\n",
        "    predictions, labels = eval_predictions\n",
        "\n",
        "    label_indices = (labels != -100).nonzero()\n",
        "    actual_labels = labels[label_indices]\n",
        "\n",
        "    label_indices = (label_indices[0], label_indices[1]-1)\n",
        "    selected_logits = predictions[label_indices]\n",
        "\n",
        "    predicted_labels = selected_logits[:,label_ids].argmax(axis=-1)\n",
        "\n",
        "    predicted_labels = np.array(label_ids)[predicted_labels]\n",
        "\n",
        "    correct_predictions = (predicted_labels == actual_labels).sum()\n",
        "\n",
        "    accuracy = correct_predictions / len(labels)\n",
        "\n",
        "    return { \"acc\" : accuracy }"
      ],
      "metadata": {
        "id": "djZzgagpsvAk"
      },
      "execution_count": 54,
      "outputs": []
    },
    {
      "cell_type": "code",
      "source": [
        "# 定义训练器\n",
        "trainer = Trainer(\n",
        "    model=model, # 待训练模型\n",
        "    args=training_args, # 训练参数\n",
        "    data_collator=collator, # 数据校准器\n",
        "    train_dataset=tokenized_train_dataset,  # 训练集\n",
        "    eval_dataset=tokenized_valid_dataset,   # 验证集\n",
        "    compute_metrics=compute_metric,         # 计算自定义指标\n",
        ")"
      ],
      "metadata": {
        "id": "mOxAEg0ysx8s"
      },
      "execution_count": 55,
      "outputs": []
    },
    {
      "cell_type": "code",
      "source": [
        "# 开始训练\n",
        "trainer.train()"
      ],
      "metadata": {
        "colab": {
          "base_uri": "https://localhost:8080/"
        },
        "id": "whHt9F6Os6lk",
        "outputId": "59f8bf20-d2e7-46b1-e9c3-80c9b6d1122b",
        "collapsed": true
      },
      "execution_count": 56,
      "outputs": [
        {
          "output_type": "stream",
          "name": "stderr",
          "text": [
            "/usr/local/lib/python3.10/dist-packages/torch/utils/checkpoint.py:295: FutureWarning: `torch.cpu.amp.autocast(args...)` is deprecated. Please use `torch.amp.autocast('cpu', args...)` instead.\n",
            "  with torch.enable_grad(), device_autocast_ctx, torch.cpu.amp.autocast(**ctx.cpu_autocast_kwargs):  # type: ignore[attr-defined]\n"
          ]
        },
        {
          "output_type": "stream",
          "name": "stdout",
          "text": [
            "{'loss': 5.2626, 'grad_norm': 155.3271026611328, 'learning_rate': 1.869158878504673e-05, 'epoch': 0.09372071227741331}\n",
            "{'eval_loss': 0.6683472990989685, 'eval_acc': 0.5787992495309568, 'eval_runtime': 19.6622, 'eval_samples_per_second': 54.216, 'eval_steps_per_second': 6.815, 'epoch': 0.09372071227741331}\n"
          ]
        },
        {
          "output_type": "stream",
          "name": "stderr",
          "text": [
            "/usr/local/lib/python3.10/dist-packages/torch/utils/checkpoint.py:295: FutureWarning: `torch.cpu.amp.autocast(args...)` is deprecated. Please use `torch.amp.autocast('cpu', args...)` instead.\n",
            "  with torch.enable_grad(), device_autocast_ctx, torch.cpu.amp.autocast(**ctx.cpu_autocast_kwargs):  # type: ignore[attr-defined]\n"
          ]
        },
        {
          "output_type": "stream",
          "name": "stdout",
          "text": [
            "{'loss': 0.7929, 'grad_norm': 33.934505462646484, 'learning_rate': 1.8062500000000002e-05, 'epoch': 0.18744142455482662}\n",
            "{'eval_loss': 0.616618275642395, 'eval_acc': 0.6716697936210131, 'eval_runtime': 10.9746, 'eval_samples_per_second': 97.133, 'eval_steps_per_second': 12.21, 'epoch': 0.18744142455482662}\n"
          ]
        },
        {
          "output_type": "stream",
          "name": "stderr",
          "text": [
            "/usr/local/lib/python3.10/dist-packages/torch/utils/checkpoint.py:295: FutureWarning: `torch.cpu.amp.autocast(args...)` is deprecated. Please use `torch.amp.autocast('cpu', args...)` instead.\n",
            "  with torch.enable_grad(), device_autocast_ctx, torch.cpu.amp.autocast(**ctx.cpu_autocast_kwargs):  # type: ignore[attr-defined]\n"
          ]
        },
        {
          "output_type": "stream",
          "name": "stdout",
          "text": [
            "{'loss': 0.6304, 'grad_norm': 39.38350296020508, 'learning_rate': 1.5979166666666668e-05, 'epoch': 0.28116213683223995}\n",
            "{'eval_loss': 0.4284285008907318, 'eval_acc': 0.8067542213883677, 'eval_runtime': 14.4641, 'eval_samples_per_second': 73.7, 'eval_steps_per_second': 9.264, 'epoch': 0.28116213683223995}\n"
          ]
        },
        {
          "output_type": "stream",
          "name": "stderr",
          "text": [
            "/usr/local/lib/python3.10/dist-packages/torch/utils/checkpoint.py:295: FutureWarning: `torch.cpu.amp.autocast(args...)` is deprecated. Please use `torch.amp.autocast('cpu', args...)` instead.\n",
            "  with torch.enable_grad(), device_autocast_ctx, torch.cpu.amp.autocast(**ctx.cpu_autocast_kwargs):  # type: ignore[attr-defined]\n"
          ]
        },
        {
          "output_type": "stream",
          "name": "stdout",
          "text": [
            "{'loss': 0.462, 'grad_norm': 95.14166259765625, 'learning_rate': 1.3895833333333335e-05, 'epoch': 0.37488284910965325}\n",
            "{'eval_loss': 0.5338843464851379, 'eval_acc': 0.8208255159474672, 'eval_runtime': 10.6109, 'eval_samples_per_second': 100.463, 'eval_steps_per_second': 12.629, 'epoch': 0.37488284910965325}\n"
          ]
        },
        {
          "output_type": "stream",
          "name": "stderr",
          "text": [
            "/usr/local/lib/python3.10/dist-packages/torch/utils/checkpoint.py:295: FutureWarning: `torch.cpu.amp.autocast(args...)` is deprecated. Please use `torch.amp.autocast('cpu', args...)` instead.\n",
            "  with torch.enable_grad(), device_autocast_ctx, torch.cpu.amp.autocast(**ctx.cpu_autocast_kwargs):  # type: ignore[attr-defined]\n"
          ]
        },
        {
          "output_type": "stream",
          "name": "stdout",
          "text": [
            "{'loss': 0.4634, 'grad_norm': 57.06003189086914, 'learning_rate': 1.18125e-05, 'epoch': 0.46860356138706655}\n",
            "{'eval_loss': 0.4184277355670929, 'eval_acc': 0.8302063789868668, 'eval_runtime': 10.6746, 'eval_samples_per_second': 99.863, 'eval_steps_per_second': 12.553, 'epoch': 0.46860356138706655}\n"
          ]
        },
        {
          "output_type": "stream",
          "name": "stderr",
          "text": [
            "/usr/local/lib/python3.10/dist-packages/torch/utils/checkpoint.py:295: FutureWarning: `torch.cpu.amp.autocast(args...)` is deprecated. Please use `torch.amp.autocast('cpu', args...)` instead.\n",
            "  with torch.enable_grad(), device_autocast_ctx, torch.cpu.amp.autocast(**ctx.cpu_autocast_kwargs):  # type: ignore[attr-defined]\n"
          ]
        },
        {
          "output_type": "stream",
          "name": "stdout",
          "text": [
            "{'loss': 0.4737, 'grad_norm': 22.807886123657227, 'learning_rate': 9.729166666666667e-06, 'epoch': 0.5623242736644799}\n",
            "{'eval_loss': 0.36835771799087524, 'eval_acc': 0.8283302063789869, 'eval_runtime': 10.8002, 'eval_samples_per_second': 98.702, 'eval_steps_per_second': 12.407, 'epoch': 0.5623242736644799}\n"
          ]
        },
        {
          "output_type": "stream",
          "name": "stderr",
          "text": [
            "/usr/local/lib/python3.10/dist-packages/torch/utils/checkpoint.py:295: FutureWarning: `torch.cpu.amp.autocast(args...)` is deprecated. Please use `torch.amp.autocast('cpu', args...)` instead.\n",
            "  with torch.enable_grad(), device_autocast_ctx, torch.cpu.amp.autocast(**ctx.cpu_autocast_kwargs):  # type: ignore[attr-defined]\n"
          ]
        },
        {
          "output_type": "stream",
          "name": "stdout",
          "text": [
            "{'loss': 0.4264, 'grad_norm': 39.16282272338867, 'learning_rate': 7.645833333333334e-06, 'epoch': 0.6560449859418932}\n",
            "{'eval_loss': 0.4179042875766754, 'eval_acc': 0.8255159474671669, 'eval_runtime': 10.8123, 'eval_samples_per_second': 98.592, 'eval_steps_per_second': 12.393, 'epoch': 0.6560449859418932}\n"
          ]
        },
        {
          "output_type": "stream",
          "name": "stderr",
          "text": [
            "/usr/local/lib/python3.10/dist-packages/torch/utils/checkpoint.py:295: FutureWarning: `torch.cpu.amp.autocast(args...)` is deprecated. Please use `torch.amp.autocast('cpu', args...)` instead.\n",
            "  with torch.enable_grad(), device_autocast_ctx, torch.cpu.amp.autocast(**ctx.cpu_autocast_kwargs):  # type: ignore[attr-defined]\n"
          ]
        },
        {
          "output_type": "stream",
          "name": "stdout",
          "text": [
            "{'loss': 0.4423, 'grad_norm': 2.881338596343994, 'learning_rate': 5.5625000000000005e-06, 'epoch': 0.7497656982193065}\n",
            "{'eval_loss': 0.395296186208725, 'eval_acc': 0.8311444652908068, 'eval_runtime': 10.8054, 'eval_samples_per_second': 98.655, 'eval_steps_per_second': 12.401, 'epoch': 0.7497656982193065}\n"
          ]
        },
        {
          "output_type": "stream",
          "name": "stderr",
          "text": [
            "/usr/local/lib/python3.10/dist-packages/torch/utils/checkpoint.py:295: FutureWarning: `torch.cpu.amp.autocast(args...)` is deprecated. Please use `torch.amp.autocast('cpu', args...)` instead.\n",
            "  with torch.enable_grad(), device_autocast_ctx, torch.cpu.amp.autocast(**ctx.cpu_autocast_kwargs):  # type: ignore[attr-defined]\n"
          ]
        },
        {
          "output_type": "stream",
          "name": "stdout",
          "text": [
            "{'loss': 0.4289, 'grad_norm': 54.95730972290039, 'learning_rate': 3.4791666666666667e-06, 'epoch': 0.8434864104967198}\n",
            "{'eval_loss': 0.3738742768764496, 'eval_acc': 0.8433395872420263, 'eval_runtime': 10.8164, 'eval_samples_per_second': 98.554, 'eval_steps_per_second': 12.389, 'epoch': 0.8434864104967198}\n"
          ]
        },
        {
          "output_type": "stream",
          "name": "stderr",
          "text": [
            "/usr/local/lib/python3.10/dist-packages/torch/utils/checkpoint.py:295: FutureWarning: `torch.cpu.amp.autocast(args...)` is deprecated. Please use `torch.amp.autocast('cpu', args...)` instead.\n",
            "  with torch.enable_grad(), device_autocast_ctx, torch.cpu.amp.autocast(**ctx.cpu_autocast_kwargs):  # type: ignore[attr-defined]\n"
          ]
        },
        {
          "output_type": "stream",
          "name": "stdout",
          "text": [
            "{'loss': 0.4216, 'grad_norm': 27.095157623291016, 'learning_rate': 1.3958333333333335e-06, 'epoch': 0.9372071227741331}\n",
            "{'eval_loss': 0.3896230161190033, 'eval_acc': 0.8433395872420263, 'eval_runtime': 10.8135, 'eval_samples_per_second': 98.58, 'eval_steps_per_second': 12.392, 'epoch': 0.9372071227741331}\n"
          ]
        },
        {
          "output_type": "stream",
          "name": "stderr",
          "text": [
            "/usr/local/lib/python3.10/dist-packages/torch/utils/checkpoint.py:295: FutureWarning: `torch.cpu.amp.autocast(args...)` is deprecated. Please use `torch.amp.autocast('cpu', args...)` instead.\n",
            "  with torch.enable_grad(), device_autocast_ctx, torch.cpu.amp.autocast(**ctx.cpu_autocast_kwargs):  # type: ignore[attr-defined]\n"
          ]
        },
        {
          "output_type": "stream",
          "name": "stdout",
          "text": [
            "{'train_runtime': 263.3286, 'train_samples_per_second': 32.393, 'train_steps_per_second': 4.052, 'train_loss': 0.9435134483702069, 'epoch': 1.0}\n"
          ]
        },
        {
          "output_type": "execute_result",
          "data": {
            "text/plain": [
              "TrainOutput(global_step=1067, training_loss=0.9435134483702069, metrics={'train_runtime': 263.3286, 'train_samples_per_second': 32.393, 'train_steps_per_second': 4.052, 'train_loss': 0.9435134483702069, 'epoch': 1.0})"
            ]
          },
          "metadata": {},
          "execution_count": 56
        }
      ]
    },
    {
      "cell_type": "code",
      "source": [
        "from logging import log\n",
        "from transformers import AutoTokenizer, AutoModelForCausalLM\n",
        "from transformers.utils import logging\n",
        "logging.get_logger(\"transformers\").setLevel(logging.ERROR)\n",
        "\n",
        "# 加载训练后的 checkpoint\n",
        "model = AutoModelForCausalLM.from_pretrained(\"output/checkpoint-1000\")\n",
        "\n",
        "# 模型设为推理模式\n",
        "model.eval()\n",
        "\n",
        "# 加载 tokenizer\n",
        "tokenizer = AutoTokenizer.from_pretrained(\"gpt2\")\n",
        "\n",
        "while True:\n",
        "  # 待分类文本\n",
        "  text = input(\"Please input your reviews: \")\n",
        "\n",
        "  if text.strip() == \"\":\n",
        "    break\n",
        "\n",
        "  # 文本转 token ids - 记得以 eos 标识输入结束，与训练时一样\n",
        "  inputs = tokenizer(text+tokenizer.eos_token, return_tensors=\"pt\")\n",
        "\n",
        "  # 推理：预测标签\n",
        "  output = model.generate(**inputs, do_sample=False, max_new_tokens=1)\n",
        "\n",
        "  # label token 转标签文本\n",
        "  label = tokenizer.decode(output[0][-1])\n",
        "\n",
        "  print(f\"Sentiment: {label}\")\n"
      ],
      "metadata": {
        "colab": {
          "base_uri": "https://localhost:8080/"
        },
        "id": "J35ywNPNvgS4",
        "outputId": "9a34d385-79ed-41cc-9533-39929e6c24fa"
      },
      "execution_count": 26,
      "outputs": [
        {
          "output_type": "stream",
          "name": "stderr",
          "text": [
            "/usr/local/lib/python3.10/dist-packages/transformers/tokenization_utils_base.py:1601: FutureWarning: `clean_up_tokenization_spaces` was not set. It will be set to `True` by default. This behavior will be depracted in transformers v4.45, and will be then set to `False` by default. For more details check this issue: https://github.com/huggingface/transformers/issues/31884\n",
            "  warnings.warn(\n"
          ]
        },
        {
          "name": "stdout",
          "output_type": "stream",
          "text": [
            "Please input your reviews: this is a good movie\n",
            "Sentiment: pos\n",
            "Please input your reviews: bad show\n",
            "Sentiment: neg\n",
            "Please input your reviews: 好\n",
            "Sentiment: neg\n",
            "Please input your reviews: \n"
          ]
        }
      ]
    },
    {
      "cell_type": "code",
      "source": [
        "!tar -czvf logs.tar.gz /content/output/runs"
      ],
      "metadata": {
        "id": "NNKBUTlLWWuj",
        "outputId": "b632ceb9-82fe-4f97-d2de-82e77463908a",
        "colab": {
          "base_uri": "https://localhost:8080/"
        }
      },
      "execution_count": 57,
      "outputs": [
        {
          "output_type": "stream",
          "name": "stdout",
          "text": [
            "tar: Removing leading `/' from member names\n",
            "/content/output/runs/\n",
            "/content/output/runs/Sep26_08-13-18_891b52d729eb/\n",
            "/content/output/runs/Sep26_08-13-18_891b52d729eb/events.out.tfevents.1727338418.891b52d729eb.2444.1\n",
            "/content/output/runs/Sep26_06-57-49_891b52d729eb/\n",
            "/content/output/runs/Sep26_06-57-49_891b52d729eb/events.out.tfevents.1727333886.891b52d729eb.2444.0\n"
          ]
        }
      ]
    },
    {
      "cell_type": "markdown",
      "source": [
        "### MNIST + Full Connection"
      ],
      "metadata": {
        "id": "TSkchGQoVhvV"
      }
    },
    {
      "cell_type": "code",
      "source": [
        "from __future__ import print_function\n",
        "import torch\n",
        "import torch.nn as nn\n",
        "import torch.nn.functional as F\n",
        "import torch.optim as optim\n",
        "from torchvision import datasets, transforms\n",
        "from torch.optim.lr_scheduler import StepLR\n",
        "\n",
        "BATCH_SIZE = 64\n",
        "TEST_BACTH_SIZE = 1000\n",
        "EPOCHS = 20\n",
        "LR = 0.01\n",
        "SEED = 42\n",
        "LOG_INTERVAL = 100\n",
        "loss_arr = []\n",
        "acc_arr = []\n",
        "\n",
        "# 定义一个全连接网络\n",
        "class FeedForwardNet(nn.Module):\n",
        "    def __init__(self):\n",
        "        super().__init__()\n",
        "        # 第一层784维输入、256维输出 -- 图像大小28×28=784\n",
        "        self.fc1 = nn.Linear(784, 256)\n",
        "        # 第二层256维输入、128维输出\n",
        "        self.fc2 = nn.Linear(256, 128)\n",
        "        # 第三层128维输入、64维输出\n",
        "        self.fc3 = nn.Linear(128, 64)\n",
        "        # 第四层64维输入、10维输出 -- 输出类别10类（0,1,...9）\n",
        "        self.fc4 = nn.Linear(64, 10)\n",
        "\n",
        "        # Dropout module with 0.2 drop probability\n",
        "        self.dropout = nn.Dropout(p=0.2)\n",
        "\n",
        "    def forward(self, x):\n",
        "        # 把输入展平成1D向量\n",
        "        x = x.view(x.shape[0], -1)\n",
        "\n",
        "        # 每层激活函数是ReLU，额外加dropout\n",
        "        x = self.dropout(F.relu(self.fc1(x)))\n",
        "        x = self.dropout(F.relu(self.fc2(x)))\n",
        "        x = self.dropout(F.relu(self.fc3(x)))\n",
        "\n",
        "        # 输出为10维概率分布\n",
        "        x = F.log_softmax(self.fc4(x), dim=1)\n",
        "\n",
        "        return x\n",
        "\n",
        "# 训练过程\n",
        "def train(model, loss_fn, device, train_loader, optimizer, epoch):\n",
        "    # 开启梯度计算\n",
        "    model.train()\n",
        "    for batch_idx, (data_input, true_label) in enumerate(train_loader):\n",
        "        # 从数据加载器读取一个batch\n",
        "        # 把数据上载到GPU（如有）\n",
        "        data_input, true_label = data_input.to(device), true_label.to(device)\n",
        "        # 求解器初始化（每个batch初始化一次）\n",
        "        optimizer.zero_grad()\n",
        "        # 正向传播：模型由输入预测输出\n",
        "        output = model(data_input)\n",
        "        # 计算loss\n",
        "        loss = loss_fn(output, true_label)\n",
        "        # 反向传播：计算当前batch的loss的梯度\n",
        "        loss.backward()\n",
        "        # 由求解器根据梯度更新模型参数\n",
        "        optimizer.step()\n",
        "\n",
        "        # 间隔性的输出当前batch的训练loss\n",
        "        if batch_idx % LOG_INTERVAL == 0:\n",
        "            print('Train Epoch: {} [{}/{} ({:.0f}%)]\\tLoss: {:.6f}'.format(\n",
        "                epoch, batch_idx * len(data_input), len(train_loader.dataset),\n",
        "                100. * batch_idx / len(train_loader), loss.item()))\n",
        "\n",
        "\n",
        "# 计算在测试集的准确率和loss\n",
        "def test(model, loss_fn, device, test_loader):\n",
        "    model.eval()\n",
        "    test_loss = 0\n",
        "    correct = 0\n",
        "    with torch.no_grad():\n",
        "        for data, target in test_loader:\n",
        "            data, target = data.to(device), target.to(device)\n",
        "            output = model(data)\n",
        "            # sum up batch loss\n",
        "            test_loss += loss_fn(output, target, reduction='sum').item()\n",
        "            # get the index of the max log-probability\n",
        "            pred = output.argmax(dim=1, keepdim=True)\n",
        "            correct += pred.eq(target.view_as(pred)).sum().item()\n",
        "\n",
        "    test_loss /= len(test_loader.dataset)\n",
        "    acc_val = 100. * correct / len(test_loader.dataset)\n",
        "\n",
        "    loss_arr.append(test_loss)\n",
        "    acc_arr.append(acc_val)\n",
        "\n",
        "    print('\\nTest set: Average loss: {:.4f}, Accuracy: {}/{} ({:.0f}%)\\n'.format(\n",
        "        test_loss, correct, len(test_loader.dataset), acc_val))\n",
        "\n",
        "\n",
        "def main():\n",
        "    # 检查是否有GPU\n",
        "    use_cuda = torch.cuda.is_available()\n",
        "\n",
        "    # 设置随机种子（以保证结果可复现）\n",
        "    torch.manual_seed(SEED)\n",
        "\n",
        "    # 训练设备（GPU或CPU）\n",
        "    device = torch.device(\"cuda\" if use_cuda else \"cpu\")\n",
        "\n",
        "    # 设置batch size\n",
        "    train_kwargs = {'batch_size': BATCH_SIZE}\n",
        "    test_kwargs = {'batch_size': TEST_BACTH_SIZE}\n",
        "\n",
        "    if use_cuda:\n",
        "        cuda_kwargs = {'num_workers': 1,\n",
        "                       'pin_memory': True,\n",
        "                       'shuffle': True}\n",
        "        train_kwargs.update(cuda_kwargs)\n",
        "        test_kwargs.update(cuda_kwargs)\n",
        "\n",
        "    # 数据预处理（转tensor、数值归一化）\n",
        "    transform = transforms.Compose([\n",
        "        transforms.ToTensor(),\n",
        "        transforms.Normalize((0.1307,), (0.3081,))\n",
        "    ])\n",
        "\n",
        "    # 自动下载MNIST数据集\n",
        "    dataset_train = datasets.MNIST('data', train=True, download=True,\n",
        "                                   transform=transform)\n",
        "    dataset_test = datasets.MNIST('data', train=False,\n",
        "                                  transform=transform)\n",
        "\n",
        "    # 定义数据加载器（自动对数据加载、多线程、随机化、划分batch、等等）\n",
        "    train_loader = torch.utils.data.DataLoader(dataset_train, **train_kwargs)\n",
        "    test_loader = torch.utils.data.DataLoader(dataset_test, **test_kwargs)\n",
        "\n",
        "    # 创建神经网络模型\n",
        "    model = FeedForwardNet().to(device)\n",
        "\n",
        "    # 指定求解器\n",
        "    optimizer = optim.SGD(model.parameters(), lr=LR)\n",
        "    # scheduler = StepLR(optimizer, step_size=1, gamma=0.9)\n",
        "\n",
        "    # 定义loss函数\n",
        "    # 注：nll 作用于 log_softmax 等价于交叉熵，感兴趣的同学可以自行推导\n",
        "    # https://blog.csdn.net/weixin_38145317/article/details/103288032\n",
        "    loss_fn = F.nll_loss\n",
        "\n",
        "    # 训练N个epoch\n",
        "    for epoch in range(1, EPOCHS + 1):\n",
        "        train(model, loss_fn, device, train_loader, optimizer, epoch)\n",
        "        test(model, loss_fn, device, test_loader)\n",
        "        # scheduler.step()"
      ],
      "metadata": {
        "id": "HAKh2fvfzxyX"
      },
      "execution_count": 31,
      "outputs": []
    },
    {
      "cell_type": "code",
      "source": [
        "main()"
      ],
      "metadata": {
        "colab": {
          "base_uri": "https://localhost:8080/"
        },
        "id": "sMEhY4gIz5aZ",
        "outputId": "55d0af24-68bc-4dae-ce59-1243d69c7aae",
        "collapsed": true
      },
      "execution_count": 32,
      "outputs": [
        {
          "metadata": {
            "tags": null
          },
          "name": "stdout",
          "output_type": "stream",
          "text": [
            "Train Epoch: 1 [0/60000 (0%)]\tLoss: 2.290365\n",
            "Train Epoch: 1 [6400/60000 (11%)]\tLoss: 2.290369\n",
            "Train Epoch: 1 [12800/60000 (21%)]\tLoss: 2.215349\n",
            "Train Epoch: 1 [19200/60000 (32%)]\tLoss: 2.083040\n",
            "Train Epoch: 1 [25600/60000 (43%)]\tLoss: 1.742818\n",
            "Train Epoch: 1 [32000/60000 (53%)]\tLoss: 1.336024\n",
            "Train Epoch: 1 [38400/60000 (64%)]\tLoss: 0.975583\n",
            "Train Epoch: 1 [44800/60000 (75%)]\tLoss: 0.891536\n",
            "Train Epoch: 1 [51200/60000 (85%)]\tLoss: 0.713502\n",
            "Train Epoch: 1 [57600/60000 (96%)]\tLoss: 0.597231\n",
            "\n",
            "Test set: Average loss: 0.5081, Accuracy: 8584/10000 (86%)\n",
            "\n",
            "Train Epoch: 2 [0/60000 (0%)]\tLoss: 0.561225\n",
            "Train Epoch: 2 [6400/60000 (11%)]\tLoss: 0.635787\n",
            "Train Epoch: 2 [12800/60000 (21%)]\tLoss: 0.671095\n",
            "Train Epoch: 2 [19200/60000 (32%)]\tLoss: 0.423967\n",
            "Train Epoch: 2 [25600/60000 (43%)]\tLoss: 0.548878\n",
            "Train Epoch: 2 [32000/60000 (53%)]\tLoss: 0.484197\n",
            "Train Epoch: 2 [38400/60000 (64%)]\tLoss: 0.415333\n",
            "Train Epoch: 2 [44800/60000 (75%)]\tLoss: 0.354389\n",
            "Train Epoch: 2 [51200/60000 (85%)]\tLoss: 0.409311\n",
            "Train Epoch: 2 [57600/60000 (96%)]\tLoss: 0.497548\n",
            "\n",
            "Test set: Average loss: 0.3191, Accuracy: 9065/10000 (91%)\n",
            "\n",
            "Train Epoch: 3 [0/60000 (0%)]\tLoss: 0.397955\n",
            "Train Epoch: 3 [6400/60000 (11%)]\tLoss: 0.393770\n",
            "Train Epoch: 3 [12800/60000 (21%)]\tLoss: 0.416661\n",
            "Train Epoch: 3 [19200/60000 (32%)]\tLoss: 0.437390\n",
            "Train Epoch: 3 [25600/60000 (43%)]\tLoss: 0.215881\n",
            "Train Epoch: 3 [32000/60000 (53%)]\tLoss: 0.352725\n",
            "Train Epoch: 3 [38400/60000 (64%)]\tLoss: 0.350015\n",
            "Train Epoch: 3 [44800/60000 (75%)]\tLoss: 0.242576\n",
            "Train Epoch: 3 [51200/60000 (85%)]\tLoss: 0.470896\n",
            "Train Epoch: 3 [57600/60000 (96%)]\tLoss: 0.542847\n",
            "\n",
            "Test set: Average loss: 0.2426, Accuracy: 9272/10000 (93%)\n",
            "\n",
            "Train Epoch: 4 [0/60000 (0%)]\tLoss: 0.502814\n",
            "Train Epoch: 4 [6400/60000 (11%)]\tLoss: 0.308572\n",
            "Train Epoch: 4 [12800/60000 (21%)]\tLoss: 0.324780\n",
            "Train Epoch: 4 [19200/60000 (32%)]\tLoss: 0.241212\n",
            "Train Epoch: 4 [25600/60000 (43%)]\tLoss: 0.293484\n",
            "Train Epoch: 4 [32000/60000 (53%)]\tLoss: 0.277447\n",
            "Train Epoch: 4 [38400/60000 (64%)]\tLoss: 0.331747\n",
            "Train Epoch: 4 [44800/60000 (75%)]\tLoss: 0.220503\n",
            "Train Epoch: 4 [51200/60000 (85%)]\tLoss: 0.213462\n",
            "Train Epoch: 4 [57600/60000 (96%)]\tLoss: 0.241630\n",
            "\n",
            "Test set: Average loss: 0.2020, Accuracy: 9397/10000 (94%)\n",
            "\n",
            "Train Epoch: 5 [0/60000 (0%)]\tLoss: 0.326202\n",
            "Train Epoch: 5 [6400/60000 (11%)]\tLoss: 0.351461\n",
            "Train Epoch: 5 [12800/60000 (21%)]\tLoss: 0.277981\n",
            "Train Epoch: 5 [19200/60000 (32%)]\tLoss: 0.291569\n",
            "Train Epoch: 5 [25600/60000 (43%)]\tLoss: 0.376294\n",
            "Train Epoch: 5 [32000/60000 (53%)]\tLoss: 0.352374\n",
            "Train Epoch: 5 [38400/60000 (64%)]\tLoss: 0.352668\n",
            "Train Epoch: 5 [44800/60000 (75%)]\tLoss: 0.280859\n",
            "Train Epoch: 5 [51200/60000 (85%)]\tLoss: 0.168132\n",
            "Train Epoch: 5 [57600/60000 (96%)]\tLoss: 0.262013\n",
            "\n",
            "Test set: Average loss: 0.1709, Accuracy: 9468/10000 (95%)\n",
            "\n",
            "Train Epoch: 6 [0/60000 (0%)]\tLoss: 0.176235\n",
            "Train Epoch: 6 [6400/60000 (11%)]\tLoss: 0.114591\n",
            "Train Epoch: 6 [12800/60000 (21%)]\tLoss: 0.160434\n",
            "Train Epoch: 6 [19200/60000 (32%)]\tLoss: 0.234769\n",
            "Train Epoch: 6 [25600/60000 (43%)]\tLoss: 0.277122\n",
            "Train Epoch: 6 [32000/60000 (53%)]\tLoss: 0.281504\n",
            "Train Epoch: 6 [38400/60000 (64%)]\tLoss: 0.206803\n",
            "Train Epoch: 6 [44800/60000 (75%)]\tLoss: 0.178969\n",
            "Train Epoch: 6 [51200/60000 (85%)]\tLoss: 0.137141\n",
            "Train Epoch: 6 [57600/60000 (96%)]\tLoss: 0.154073\n",
            "\n",
            "Test set: Average loss: 0.1510, Accuracy: 9526/10000 (95%)\n",
            "\n",
            "Train Epoch: 7 [0/60000 (0%)]\tLoss: 0.195693\n",
            "Train Epoch: 7 [6400/60000 (11%)]\tLoss: 0.248331\n",
            "Train Epoch: 7 [12800/60000 (21%)]\tLoss: 0.166570\n",
            "Train Epoch: 7 [19200/60000 (32%)]\tLoss: 0.129910\n",
            "Train Epoch: 7 [25600/60000 (43%)]\tLoss: 0.258507\n",
            "Train Epoch: 7 [32000/60000 (53%)]\tLoss: 0.215350\n",
            "Train Epoch: 7 [38400/60000 (64%)]\tLoss: 0.172301\n",
            "Train Epoch: 7 [44800/60000 (75%)]\tLoss: 0.214699\n",
            "Train Epoch: 7 [51200/60000 (85%)]\tLoss: 0.166004\n",
            "Train Epoch: 7 [57600/60000 (96%)]\tLoss: 0.112126\n",
            "\n",
            "Test set: Average loss: 0.1339, Accuracy: 9596/10000 (96%)\n",
            "\n",
            "Train Epoch: 8 [0/60000 (0%)]\tLoss: 0.130313\n",
            "Train Epoch: 8 [6400/60000 (11%)]\tLoss: 0.246420\n",
            "Train Epoch: 8 [12800/60000 (21%)]\tLoss: 0.324455\n",
            "Train Epoch: 8 [19200/60000 (32%)]\tLoss: 0.222554\n",
            "Train Epoch: 8 [25600/60000 (43%)]\tLoss: 0.228310\n",
            "Train Epoch: 8 [32000/60000 (53%)]\tLoss: 0.114796\n",
            "Train Epoch: 8 [38400/60000 (64%)]\tLoss: 0.253235\n",
            "Train Epoch: 8 [44800/60000 (75%)]\tLoss: 0.085367\n",
            "Train Epoch: 8 [51200/60000 (85%)]\tLoss: 0.221585\n",
            "Train Epoch: 8 [57600/60000 (96%)]\tLoss: 0.111051\n",
            "\n",
            "Test set: Average loss: 0.1233, Accuracy: 9608/10000 (96%)\n",
            "\n",
            "Train Epoch: 9 [0/60000 (0%)]\tLoss: 0.091353\n",
            "Train Epoch: 9 [6400/60000 (11%)]\tLoss: 0.233236\n",
            "Train Epoch: 9 [12800/60000 (21%)]\tLoss: 0.143883\n",
            "Train Epoch: 9 [19200/60000 (32%)]\tLoss: 0.201524\n",
            "Train Epoch: 9 [25600/60000 (43%)]\tLoss: 0.108128\n",
            "Train Epoch: 9 [32000/60000 (53%)]\tLoss: 0.180836\n",
            "Train Epoch: 9 [38400/60000 (64%)]\tLoss: 0.084607\n",
            "Train Epoch: 9 [44800/60000 (75%)]\tLoss: 0.138937\n",
            "Train Epoch: 9 [51200/60000 (85%)]\tLoss: 0.150220\n",
            "Train Epoch: 9 [57600/60000 (96%)]\tLoss: 0.051606\n",
            "\n",
            "Test set: Average loss: 0.1140, Accuracy: 9649/10000 (96%)\n",
            "\n",
            "Train Epoch: 10 [0/60000 (0%)]\tLoss: 0.107536\n",
            "Train Epoch: 10 [6400/60000 (11%)]\tLoss: 0.065453\n",
            "Train Epoch: 10 [12800/60000 (21%)]\tLoss: 0.096580\n",
            "Train Epoch: 10 [19200/60000 (32%)]\tLoss: 0.088829\n",
            "Train Epoch: 10 [25600/60000 (43%)]\tLoss: 0.171350\n",
            "Train Epoch: 10 [32000/60000 (53%)]\tLoss: 0.037677\n",
            "Train Epoch: 10 [38400/60000 (64%)]\tLoss: 0.072265\n",
            "Train Epoch: 10 [44800/60000 (75%)]\tLoss: 0.169423\n",
            "Train Epoch: 10 [51200/60000 (85%)]\tLoss: 0.098157\n",
            "Train Epoch: 10 [57600/60000 (96%)]\tLoss: 0.110971\n",
            "\n",
            "Test set: Average loss: 0.1063, Accuracy: 9677/10000 (97%)\n",
            "\n",
            "Train Epoch: 11 [0/60000 (0%)]\tLoss: 0.149113\n",
            "Train Epoch: 11 [6400/60000 (11%)]\tLoss: 0.197297\n",
            "Train Epoch: 11 [12800/60000 (21%)]\tLoss: 0.161783\n",
            "Train Epoch: 11 [19200/60000 (32%)]\tLoss: 0.256889\n",
            "Train Epoch: 11 [25600/60000 (43%)]\tLoss: 0.179824\n",
            "Train Epoch: 11 [32000/60000 (53%)]\tLoss: 0.089254\n",
            "Train Epoch: 11 [38400/60000 (64%)]\tLoss: 0.138336\n",
            "Train Epoch: 11 [44800/60000 (75%)]\tLoss: 0.151498\n",
            "Train Epoch: 11 [51200/60000 (85%)]\tLoss: 0.173719\n",
            "Train Epoch: 11 [57600/60000 (96%)]\tLoss: 0.256819\n",
            "\n",
            "Test set: Average loss: 0.1006, Accuracy: 9701/10000 (97%)\n",
            "\n",
            "Train Epoch: 12 [0/60000 (0%)]\tLoss: 0.225632\n",
            "Train Epoch: 12 [6400/60000 (11%)]\tLoss: 0.237518\n",
            "Train Epoch: 12 [12800/60000 (21%)]\tLoss: 0.054727\n",
            "Train Epoch: 12 [19200/60000 (32%)]\tLoss: 0.128278\n",
            "Train Epoch: 12 [25600/60000 (43%)]\tLoss: 0.092296\n",
            "Train Epoch: 12 [32000/60000 (53%)]\tLoss: 0.037017\n",
            "Train Epoch: 12 [38400/60000 (64%)]\tLoss: 0.155148\n",
            "Train Epoch: 12 [44800/60000 (75%)]\tLoss: 0.038882\n",
            "Train Epoch: 12 [51200/60000 (85%)]\tLoss: 0.080814\n",
            "Train Epoch: 12 [57600/60000 (96%)]\tLoss: 0.066904\n",
            "\n",
            "Test set: Average loss: 0.0957, Accuracy: 9702/10000 (97%)\n",
            "\n",
            "Train Epoch: 13 [0/60000 (0%)]\tLoss: 0.135473\n",
            "Train Epoch: 13 [6400/60000 (11%)]\tLoss: 0.099404\n",
            "Train Epoch: 13 [12800/60000 (21%)]\tLoss: 0.072276\n",
            "Train Epoch: 13 [19200/60000 (32%)]\tLoss: 0.075564\n",
            "Train Epoch: 13 [25600/60000 (43%)]\tLoss: 0.092487\n",
            "Train Epoch: 13 [32000/60000 (53%)]\tLoss: 0.133867\n",
            "Train Epoch: 13 [38400/60000 (64%)]\tLoss: 0.148463\n",
            "Train Epoch: 13 [44800/60000 (75%)]\tLoss: 0.071947\n",
            "Train Epoch: 13 [51200/60000 (85%)]\tLoss: 0.053374\n",
            "Train Epoch: 13 [57600/60000 (96%)]\tLoss: 0.085167\n",
            "\n",
            "Test set: Average loss: 0.0920, Accuracy: 9715/10000 (97%)\n",
            "\n",
            "Train Epoch: 14 [0/60000 (0%)]\tLoss: 0.086019\n",
            "Train Epoch: 14 [6400/60000 (11%)]\tLoss: 0.146405\n",
            "Train Epoch: 14 [12800/60000 (21%)]\tLoss: 0.076291\n",
            "Train Epoch: 14 [19200/60000 (32%)]\tLoss: 0.124058\n",
            "Train Epoch: 14 [25600/60000 (43%)]\tLoss: 0.051955\n",
            "Train Epoch: 14 [32000/60000 (53%)]\tLoss: 0.119825\n",
            "Train Epoch: 14 [38400/60000 (64%)]\tLoss: 0.112116\n",
            "Train Epoch: 14 [44800/60000 (75%)]\tLoss: 0.030358\n",
            "Train Epoch: 14 [51200/60000 (85%)]\tLoss: 0.046300\n",
            "Train Epoch: 14 [57600/60000 (96%)]\tLoss: 0.092183\n",
            "\n",
            "Test set: Average loss: 0.0868, Accuracy: 9733/10000 (97%)\n",
            "\n",
            "Train Epoch: 15 [0/60000 (0%)]\tLoss: 0.053693\n",
            "Train Epoch: 15 [6400/60000 (11%)]\tLoss: 0.101065\n",
            "Train Epoch: 15 [12800/60000 (21%)]\tLoss: 0.059550\n",
            "Train Epoch: 15 [19200/60000 (32%)]\tLoss: 0.064578\n",
            "Train Epoch: 15 [25600/60000 (43%)]\tLoss: 0.070264\n",
            "Train Epoch: 15 [32000/60000 (53%)]\tLoss: 0.070458\n",
            "Train Epoch: 15 [38400/60000 (64%)]\tLoss: 0.252925\n",
            "Train Epoch: 15 [44800/60000 (75%)]\tLoss: 0.058557\n",
            "Train Epoch: 15 [51200/60000 (85%)]\tLoss: 0.176862\n",
            "Train Epoch: 15 [57600/60000 (96%)]\tLoss: 0.087482\n",
            "\n",
            "Test set: Average loss: 0.0830, Accuracy: 9740/10000 (97%)\n",
            "\n",
            "Train Epoch: 16 [0/60000 (0%)]\tLoss: 0.045739\n",
            "Train Epoch: 16 [6400/60000 (11%)]\tLoss: 0.138077\n",
            "Train Epoch: 16 [12800/60000 (21%)]\tLoss: 0.102324\n",
            "Train Epoch: 16 [19200/60000 (32%)]\tLoss: 0.122834\n",
            "Train Epoch: 16 [25600/60000 (43%)]\tLoss: 0.166059\n",
            "Train Epoch: 16 [32000/60000 (53%)]\tLoss: 0.090975\n",
            "Train Epoch: 16 [38400/60000 (64%)]\tLoss: 0.086091\n",
            "Train Epoch: 16 [44800/60000 (75%)]\tLoss: 0.033328\n",
            "Train Epoch: 16 [51200/60000 (85%)]\tLoss: 0.034565\n",
            "Train Epoch: 16 [57600/60000 (96%)]\tLoss: 0.143291\n",
            "\n",
            "Test set: Average loss: 0.0836, Accuracy: 9754/10000 (98%)\n",
            "\n",
            "Train Epoch: 17 [0/60000 (0%)]\tLoss: 0.067020\n",
            "Train Epoch: 17 [6400/60000 (11%)]\tLoss: 0.104294\n",
            "Train Epoch: 17 [12800/60000 (21%)]\tLoss: 0.014833\n",
            "Train Epoch: 17 [19200/60000 (32%)]\tLoss: 0.087142\n",
            "Train Epoch: 17 [25600/60000 (43%)]\tLoss: 0.107782\n",
            "Train Epoch: 17 [32000/60000 (53%)]\tLoss: 0.247151\n",
            "Train Epoch: 17 [38400/60000 (64%)]\tLoss: 0.256465\n",
            "Train Epoch: 17 [44800/60000 (75%)]\tLoss: 0.177820\n",
            "Train Epoch: 17 [51200/60000 (85%)]\tLoss: 0.066420\n",
            "Train Epoch: 17 [57600/60000 (96%)]\tLoss: 0.339754\n",
            "\n",
            "Test set: Average loss: 0.0791, Accuracy: 9761/10000 (98%)\n",
            "\n",
            "Train Epoch: 18 [0/60000 (0%)]\tLoss: 0.031408\n",
            "Train Epoch: 18 [6400/60000 (11%)]\tLoss: 0.083345\n",
            "Train Epoch: 18 [12800/60000 (21%)]\tLoss: 0.027324\n",
            "Train Epoch: 18 [19200/60000 (32%)]\tLoss: 0.100632\n",
            "Train Epoch: 18 [25600/60000 (43%)]\tLoss: 0.079681\n",
            "Train Epoch: 18 [32000/60000 (53%)]\tLoss: 0.082836\n",
            "Train Epoch: 18 [38400/60000 (64%)]\tLoss: 0.237161\n",
            "Train Epoch: 18 [44800/60000 (75%)]\tLoss: 0.014477\n",
            "Train Epoch: 18 [51200/60000 (85%)]\tLoss: 0.049648\n",
            "Train Epoch: 18 [57600/60000 (96%)]\tLoss: 0.062657\n",
            "\n",
            "Test set: Average loss: 0.0775, Accuracy: 9763/10000 (98%)\n",
            "\n",
            "Train Epoch: 19 [0/60000 (0%)]\tLoss: 0.075304\n",
            "Train Epoch: 19 [6400/60000 (11%)]\tLoss: 0.101257\n",
            "Train Epoch: 19 [12800/60000 (21%)]\tLoss: 0.045889\n",
            "Train Epoch: 19 [19200/60000 (32%)]\tLoss: 0.232856\n",
            "Train Epoch: 19 [25600/60000 (43%)]\tLoss: 0.025939\n",
            "Train Epoch: 19 [32000/60000 (53%)]\tLoss: 0.110719\n",
            "Train Epoch: 19 [38400/60000 (64%)]\tLoss: 0.111440\n",
            "Train Epoch: 19 [44800/60000 (75%)]\tLoss: 0.077544\n",
            "Train Epoch: 19 [51200/60000 (85%)]\tLoss: 0.042471\n",
            "Train Epoch: 19 [57600/60000 (96%)]\tLoss: 0.151650\n",
            "\n",
            "Test set: Average loss: 0.0756, Accuracy: 9772/10000 (98%)\n",
            "\n",
            "Train Epoch: 20 [0/60000 (0%)]\tLoss: 0.094557\n",
            "Train Epoch: 20 [6400/60000 (11%)]\tLoss: 0.259593\n",
            "Train Epoch: 20 [12800/60000 (21%)]\tLoss: 0.048529\n",
            "Train Epoch: 20 [19200/60000 (32%)]\tLoss: 0.094748\n",
            "Train Epoch: 20 [25600/60000 (43%)]\tLoss: 0.033328\n",
            "Train Epoch: 20 [32000/60000 (53%)]\tLoss: 0.175382\n",
            "Train Epoch: 20 [38400/60000 (64%)]\tLoss: 0.141144\n",
            "Train Epoch: 20 [44800/60000 (75%)]\tLoss: 0.135351\n",
            "Train Epoch: 20 [51200/60000 (85%)]\tLoss: 0.053601\n",
            "Train Epoch: 20 [57600/60000 (96%)]\tLoss: 0.091030\n",
            "\n",
            "Test set: Average loss: 0.0745, Accuracy: 9780/10000 (98%)\n",
            "\n"
          ]
        }
      ]
    },
    {
      "cell_type": "code",
      "source": [
        "import matplotlib.pyplot as plt\n",
        "\n",
        "# Data provided\n",
        "data = {\n",
        "    \"Average Loss\": loss_arr,\n",
        "    \"Accuracy\": acc_arr  # Converting to percentage\n",
        "}\n",
        "\n",
        "\n",
        "# Create the figure and axis\n",
        "fig, ax1 = plt.subplots()\n",
        "\n",
        "# Plot Average Loss\n",
        "ax1.plot(data[\"Average Loss\"], 'bo-', label='Average Loss')\n",
        "ax1.set_xlabel('Epoch')\n",
        "ax1.set_ylabel('Average Loss', color='b')\n",
        "\n",
        "# Create another y-axis for Accuracy\n",
        "ax2 = ax1.twinx()\n",
        "ax2.plot(data[\"Accuracy\"], 'ro-', label='Accuracy')\n",
        "ax2.set_ylabel('Accuracy (%)', color='r')\n",
        "\n",
        "# Add a title\n",
        "plt.title('Average Loss and Accuracy Over Test Sets')\n",
        "\n",
        "# Show the plot\n",
        "plt.show()\n"
      ],
      "metadata": {
        "colab": {
          "base_uri": "https://localhost:8080/",
          "height": 472
        },
        "id": "okRx_LRb_G4c",
        "outputId": "8f67f346-6900-44ef-dbf1-e7b3f37c7b63"
      },
      "execution_count": 33,
      "outputs": [
        {
          "output_type": "display_data",
          "data": {
            "text/plain": [
              "<Figure size 640x480 with 2 Axes>"
            ],
            "image/png": "[encoded data removed]"
          },
          "metadata": {}
        }
      ]
    }
  ]
}